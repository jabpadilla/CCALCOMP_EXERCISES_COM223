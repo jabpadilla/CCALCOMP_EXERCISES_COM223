{
  "cells": [
    {
      "cell_type": "markdown",
      "metadata": {
        "id": "3-prKGbfwFRd"
      },
      "source": [
        "# Exercise 1"
      ]
    },
    {
      "cell_type": "markdown",
      "metadata": {
        "id": "kBW-_z9HwFRf"
      },
      "source": [
        "Please follow the instructions in each number. Do not remove or modify the pre-defined code!"
      ]
    },
    {
      "cell_type": "code",
      "execution_count": 4,
      "metadata": {
        "id": "ABAdD_ngwFRg"
      },
      "outputs": [],
      "source": [
        "# Add a vertex to the set of vertices and the graph\n",
        "def add_vertex(v):\n",
        "  global graph\n",
        "  global vertices_no\n",
        "  global vertices\n",
        "  if v in vertices:\n",
        "    print(\"Vertex \", v, \" already exists\")\n",
        "  else:\n",
        "    vertices_no = vertices_no + 1\n",
        "    vertices.append(v)\n",
        "    if vertices_no > 1:\n",
        "        for vertex in graph:\n",
        "            vertex.append(0)\n",
        "    temp = []\n",
        "    for i in range(vertices_no):\n",
        "        temp.append(0)\n",
        "    graph.append(temp)\n",
        "\n",
        "# Add an edge between vertex v1 and v2 with edge weight e\n",
        "def add_edge(v1, v2, e):\n",
        "    global graph\n",
        "    global vertices_no\n",
        "    global vertices\n",
        "    # Check if vertex v1 is a valid vertex\n",
        "    if v1 not in vertices:\n",
        "        print(\"Vertex \", v1, \" does not exist.\")\n",
        "    # Check if vertex v1 is a valid vertex\n",
        "    elif v2 not in vertices:\n",
        "        print(\"Vertex \", v2, \" does not exist.\")\n",
        "    # Since this code is not restricted to a directed or\n",
        "    # an undirected graph, an edge between v1 v2 does not\n",
        "    # imply that an edge exists between v2 and v1\n",
        "    else:\n",
        "        index1 = vertices.index(v1)\n",
        "        index2 = vertices.index(v2)\n",
        "        graph[index1][index2] = e\n",
        "\n",
        "# Print the graph\n",
        "def print_graph():\n",
        "  global graph\n",
        "  global vertices_no\n",
        "  for i in range(vertices_no):\n",
        "    for j in range(vertices_no):\n",
        "      if graph[i][j] != 0:\n",
        "        print(vertices[i], \" -> \", vertices[j],\n",
        "              \" edge weight: \", graph[i][j])"
      ]
    },
    {
      "cell_type": "code",
      "execution_count": 5,
      "metadata": {
        "id": "912w9tR0wFRh"
      },
      "outputs": [],
      "source": [
        "# stores the vertices in the graph\n",
        "vertices = []\n",
        "# stores the number of vertices in the graph\n",
        "vertices_no = 0\n",
        "graph = []"
      ]
    },
    {
      "cell_type": "markdown",
      "metadata": {
        "id": "lzkib3wYwFRh"
      },
      "source": [
        "<img src=\"https://github.com/robitussin/CCALCOMP_EXERCISES/blob/main/images/directed%20graph2.png?raw=true\"/>"
      ]
    },
    {
      "cell_type": "markdown",
      "metadata": {
        "id": "Qfh-2gbPwFRi"
      },
      "source": [
        "1. Print the edges and vertices of the graph in set representation. (`25 points`)"
      ]
    },
    {
      "cell_type": "code",
      "source": [
        "print(\"Vertices of the given graph:\")\n",
        "print(\"V = {A, B, C, D, E}\")\n",
        "print(\"\")\n",
        "print(\"Edges of the given graph:\")\n",
        "print(\"E = {{A, C}, {A, D} {B,A}, {C,B} {C,D} {E,A}}\")"
      ],
      "metadata": {
        "id": "EA6jveMqkS8e",
        "colab": {
          "base_uri": "https://localhost:8080/"
        },
        "outputId": "7488a802-7d35-4a99-ca25-ec4da3edcf0e"
      },
      "execution_count": 6,
      "outputs": [
        {
          "output_type": "stream",
          "name": "stdout",
          "text": [
            "Vertices of the given graph:\n",
            "V = {A, B, C, D, E}\n",
            "\n",
            "Edges of the given graph:\n",
            "E = {{A, C}, {A, D} {B,A}, {C,B} {C,D} {E,A}}\n"
          ]
        }
      ]
    },
    {
      "cell_type": "markdown",
      "metadata": {
        "id": "NHt6QEFzwFRi"
      },
      "source": [
        "2. Implement the weighted graph in python code. Use the print_graph() function. (`25 points`)"
      ]
    },
    {
      "cell_type": "code",
      "execution_count": 7,
      "metadata": {
        "id": "fcYP9VF9wFRj"
      },
      "outputs": [],
      "source": [
        "# Add vertices to the graph\n",
        "\n",
        "add_vertex(\"A\")\n",
        "add_vertex(\"B\")\n",
        "add_vertex(\"C\")\n",
        "add_vertex(\"D\")\n",
        "add_vertex(\"E\")"
      ]
    },
    {
      "cell_type": "code",
      "source": [
        "# Add the edges between the vertices by specifying\n",
        "# the from and to vertices along with its respective edge weights\n",
        "\n",
        "add_edge(\"A\", \"C\", 12)\n",
        "add_edge(\"A\", \"D\", 60)\n",
        "add_edge(\"B\", \"A\", 10)\n",
        "add_edge(\"C\", \"B\", 20)\n",
        "add_edge(\"C\", \"D\", 32)\n",
        "add_edge(\"E\", \"A\", 7)"
      ],
      "metadata": {
        "id": "w5P3PzFafd_v"
      },
      "execution_count": 8,
      "outputs": []
    },
    {
      "cell_type": "code",
      "source": [
        "# Print the directed and weighted graph\n",
        "\n",
        "print_graph()\n",
        "print(\"\")\n",
        "print(\"Internal representation: \", graph)"
      ],
      "metadata": {
        "colab": {
          "base_uri": "https://localhost:8080/"
        },
        "id": "0zHqyFsCffV8",
        "outputId": "8cddeccc-58d2-43e7-cea1-f136414b3810"
      },
      "execution_count": 9,
      "outputs": [
        {
          "output_type": "stream",
          "name": "stdout",
          "text": [
            "A  ->  C  edge weight:  12\n",
            "A  ->  D  edge weight:  60\n",
            "B  ->  A  edge weight:  10\n",
            "C  ->  B  edge weight:  20\n",
            "C  ->  D  edge weight:  32\n",
            "E  ->  A  edge weight:  7\n",
            "\n",
            "Internal representation:  [[0, 0, 12, 60, 0], [10, 0, 0, 0, 0], [0, 20, 0, 32, 0], [0, 0, 0, 0, 0], [7, 0, 0, 0, 0]]\n"
          ]
        }
      ]
    },
    {
      "cell_type": "markdown",
      "metadata": {
        "id": "kD-6afNTwFRj"
      },
      "source": [
        "3. You decided to go on a trip around the philippines. Being a computer scientist, you wanted to find the optimal route that would cost the least amount of money to travel all four cities. Find the route and print the total cost of the most optimal route. (`50 points`)"
      ]
    },
    {
      "cell_type": "markdown",
      "metadata": {
        "id": "cBHIHSIewFRj"
      },
      "source": [
        "<img src=\"https://github.com/robitussin/CCALCOMP_EXERCISES/blob/main/images/trip.png?raw=true\" width=\"500\" height=\"600\"/>"
      ]
    },
    {
      "cell_type": "code",
      "source": [
        "# List the most optimal travel route that costs the least amount of money to travel all the 4 cities\n",
        "\n",
        "print(\"Most optimal route to travel all the 4 cities along with its respective travel/route costs:\")\n",
        "print(\"\")\n",
        "\n",
        "print(\"Manila — Tacloban\")\n",
        "print(f\"Route Cost: ₱1000,\")\n",
        "print(\"\")\n",
        "\n",
        "print(\"Tacloban — Puerto Princesa,\")\n",
        "print(f\"Route Cost: ₱1500,\")\n",
        "print(\"\")\n",
        "\n",
        "print(\"Puerto Princesa — Davao,\")\n",
        "print(f\"Route Cost: ₱4000,\")\n",
        "print(\"\")\n",
        "\n",
        "print(\"Davao — Manila\")\n",
        "print(f\"Route Cost: ₱5000,\")\n",
        "\n",
        "print(\"\")\n",
        "print(\"\")\n",
        "\n",
        "\n",
        "# Sum the total cost of the most optimal route\n",
        "print(\"Total Cost of the Most Optimal Route:\")\n",
        "print(f\"= 1000 + 1500 + 4000 + 5000 = ₱11500\")"
      ],
      "metadata": {
        "id": "Xj8wCZoKsnhl",
        "colab": {
          "base_uri": "https://localhost:8080/"
        },
        "outputId": "2279e2ea-4f39-43b5-810f-7bc213b90420"
      },
      "execution_count": 10,
      "outputs": [
        {
          "output_type": "stream",
          "name": "stdout",
          "text": [
            "Most optimal route to travel all the 4 cities along with its respective travel/route costs:\n",
            "\n",
            "Manila — Tacloban\n",
            "Route Cost: ₱1000,\n",
            "\n",
            "Tacloban — Puerto Princesa,\n",
            "Route Cost: ₱1500,\n",
            "\n",
            "Puerto Princesa — Davao,\n",
            "Route Cost: ₱4000,\n",
            "\n",
            "Davao — Manila\n",
            "Route Cost: ₱5000,\n",
            "\n",
            "\n",
            "Total Cost of the Most Optimal Route:\n",
            "= 1000 + 1500 + 4000 + 5000 = ₱11500\n"
          ]
        }
      ]
    }
  ],
  "metadata": {
    "kernelspec": {
      "display_name": "base",
      "language": "python",
      "name": "python3"
    },
    "language_info": {
      "codemirror_mode": {
        "name": "ipython",
        "version": 3
      },
      "file_extension": ".py",
      "mimetype": "text/x-python",
      "name": "python",
      "nbconvert_exporter": "python",
      "pygments_lexer": "ipython3",
      "version": "3.9.6"
    },
    "colab": {
      "provenance": []
    }
  },
  "nbformat": 4,
  "nbformat_minor": 0
}